{
 "cells": [
  {
   "cell_type": "code",
   "execution_count": 1,
   "id": "d0fa2e57",
   "metadata": {},
   "outputs": [],
   "source": [
    "import torch\n",
    "from torch import nn\n",
    "from torch.utils.data import DataLoader\n",
    "from torchvision import datasets\n",
    "from torchvision.transforms import ToTensor\n",
    "import numpy as np"
   ]
  },
  {
   "cell_type": "code",
   "execution_count": 2,
   "id": "f0ea9e46",
   "metadata": {},
   "outputs": [],
   "source": [
    "# Download training data from open datasets.\n",
    "training_data = datasets.FashionMNIST(\n",
    "    root=\"data\",\n",
    "    train=True,\n",
    "    download=True,\n",
    "    transform=ToTensor(),\n",
    ")\n",
    "\n",
    "# Download test data from open datasets.\n",
    "test_data = datasets.FashionMNIST(\n",
    "    root=\"data\",\n",
    "    train=False,\n",
    "    download=True,\n",
    "    transform=ToTensor(),\n",
    ")"
   ]
  },
  {
   "cell_type": "code",
   "execution_count": 3,
   "id": "545b47cf",
   "metadata": {},
   "outputs": [
    {
     "name": "stdout",
     "output_type": "stream",
     "text": [
      "Shape of X [N, C, H, W]: torch.Size([64, 1, 28, 28])\n",
      "Shape of y: torch.Size([64]) torch.int64\n"
     ]
    }
   ],
   "source": [
    "batch_size = 64\n",
    "\n",
    "# Create data loaders.\n",
    "train_dataloader = DataLoader(training_data, batch_size=batch_size)\n",
    "test_dataloader = DataLoader(test_data, batch_size=batch_size)\n",
    "\n",
    "for X, y in test_dataloader:\n",
    "    print(f\"Shape of X [N, C, H, W]: {X.shape}\")\n",
    "    print(f\"Shape of y: {y.shape} {y.dtype}\")\n",
    "    break"
   ]
  },
  {
   "cell_type": "code",
   "execution_count": 4,
   "id": "a63b36c2",
   "metadata": {},
   "outputs": [
    {
     "name": "stdout",
     "output_type": "stream",
     "text": [
      "Using cuda device\n",
      "VAE(\n",
      "  (flatten): Flatten(start_dim=1, end_dim=-1)\n",
      "  (fc1): Linear(in_features=784, out_features=512, bias=True)\n",
      "  (fc2): Linear(in_features=512, out_features=512, bias=True)\n",
      "  (fc_mu): Linear(in_features=512, out_features=2, bias=True)\n",
      "  (fc_logvar): Linear(in_features=512, out_features=2, bias=True)\n",
      "  (fc3): Linear(in_features=2, out_features=512, bias=True)\n",
      "  (fc4): Linear(in_features=512, out_features=512, bias=True)\n",
      "  (fc5): Linear(in_features=512, out_features=784, bias=True)\n",
      ")\n"
     ]
    }
   ],
   "source": [
    "# Correction device\n",
    "device = torch.device(\"cuda\" if torch.cuda.is_available() else \"cpu\")\n",
    "print(f\"Using {device} device\")\n",
    "\n",
    "# VAE Model\n",
    "class VAE(nn.Module):\n",
    "    def __init__(self):\n",
    "        super().__init__()\n",
    "        self.flatten = nn.Flatten()\n",
    "        self.fc1 = nn.Linear(28*28, 512)\n",
    "        self.fc2 = nn.Linear(512, 512)\n",
    "        self.fc_mu = nn.Linear(512, 2)\n",
    "        self.fc_logvar = nn.Linear(512, 2)\n",
    "        self.fc3 = nn.Linear(2, 512)\n",
    "        self.fc4 = nn.Linear(512, 512)\n",
    "        self.fc5 = nn.Linear(512, 28*28)\n",
    "\n",
    "    def encode(self, x):\n",
    "        h1 = torch.relu(self.fc1(x))\n",
    "        h2 = torch.relu(self.fc2(h1))\n",
    "        mu = self.fc_mu(h2)\n",
    "        logvar = self.fc_logvar(h2)\n",
    "        return mu, logvar\n",
    "\n",
    "    def reparameterize(self, mu, logvar):\n",
    "        std = torch.exp(0.5 * logvar)\n",
    "        eps = torch.randn_like(std)\n",
    "        return mu + eps * std\n",
    "\n",
    "    def decode(self, z):\n",
    "        h3 = torch.relu(self.fc3(z))\n",
    "        h4 = torch.relu(self.fc4(h3))\n",
    "        return torch.sigmoid(self.fc5(h4))\n",
    "\n",
    "    def forward(self, x):\n",
    "        x = self.flatten(x)\n",
    "        mu, logvar = self.encode(x)\n",
    "        z = self.reparameterize(mu, logvar)\n",
    "        recon_x = self.decode(z)\n",
    "        return recon_x, mu, logvar\n",
    "\n",
    "model = VAE().to(device)\n",
    "print(model)"
   ]
  },
  {
   "cell_type": "code",
   "execution_count": 5,
   "id": "76047f4b",
   "metadata": {},
   "outputs": [],
   "source": [
    "\n",
    "def vae_loss(recon_x, x, mu, logvar):\n",
    "    x_flat = x.view(x.size(0), -1)\n",
    "    BCE = nn.functional.binary_cross_entropy(recon_x, x_flat, reduction='mean')\n",
    "    KLD = -0.5 * torch.mean(torch.sum(1 + logvar - mu.pow(2) - logvar.exp(), dim=1)) / x.size(0)\n",
    "    return BCE + KLD\n",
    "\n",
    "optimizer = torch.optim.Adam(model.parameters(), lr=1e-3)"
   ]
  },
  {
   "cell_type": "code",
   "execution_count": 6,
   "id": "df7c4f53",
   "metadata": {},
   "outputs": [],
   "source": [
    "def train(dataloader, model, optimizer):\n",
    "    size = len(dataloader.dataset)\n",
    "    model.train()\n",
    "    for batch, (X, _) in enumerate(dataloader):\n",
    "        X = X.to(device)\n",
    "        recon_batch, mu, logvar = model(X)\n",
    "        loss = vae_loss(recon_batch, X, mu, logvar)\n",
    "        loss.backward()\n",
    "        optimizer.step()\n",
    "        optimizer.zero_grad()\n",
    "        if batch % 100 == 0:\n",
    "            print(f\"loss: {loss.item()/len(X):>7f}  [{(batch + 1) * len(X):>5d}/{size:>5d}]\")"
   ]
  },
  {
   "cell_type": "code",
   "execution_count": 7,
   "id": "7f354b7c",
   "metadata": {},
   "outputs": [],
   "source": [
    "def test(dataloader, model):\n",
    "    size = len(dataloader.dataset)\n",
    "    num_batches = len(dataloader)\n",
    "    model.eval()\n",
    "    test_loss = 0\n",
    "    with torch.no_grad():\n",
    "        for X, _ in dataloader:\n",
    "            X = X.to(device)\n",
    "            recon_batch, mu, logvar = model(X)\n",
    "            test_loss += vae_loss(recon_batch, X, mu, logvar).item()\n",
    "    test_loss /= size\n",
    "    print(f\"Test set: Avg loss: {test_loss:>8f}\")"
   ]
  },
  {
   "cell_type": "code",
   "execution_count": 8,
   "id": "af660c35",
   "metadata": {},
   "outputs": [
    {
     "name": "stdout",
     "output_type": "stream",
     "text": [
      "Epoch 1\n",
      "-------------------------------\n",
      "loss: 0.010875  [   64/60000]\n",
      "loss: 0.006595  [ 6464/60000]\n",
      "loss: 0.006493  [12864/60000]\n",
      "loss: 0.006415  [19264/60000]\n",
      "loss: 0.006221  [25664/60000]\n",
      "loss: 0.006519  [32064/60000]\n",
      "loss: 0.006179  [38464/60000]\n",
      "loss: 0.006130  [44864/60000]\n",
      "loss: 0.006336  [51264/60000]\n",
      "loss: 0.006261  [57664/60000]\n",
      "Test set: Avg loss: 0.006301\n",
      "Epoch 2\n",
      "-------------------------------\n",
      "loss: 0.006153  [   64/60000]\n",
      "loss: 0.006095  [ 6464/60000]\n",
      "loss: 0.006180  [12864/60000]\n",
      "loss: 0.006309  [19264/60000]\n",
      "loss: 0.006132  [25664/60000]\n",
      "loss: 0.006388  [32064/60000]\n",
      "loss: 0.006048  [38464/60000]\n",
      "loss: 0.006033  [44864/60000]\n",
      "loss: 0.006253  [51264/60000]\n",
      "loss: 0.006166  [57664/60000]\n",
      "Test set: Avg loss: 0.006246\n",
      "Epoch 3\n",
      "-------------------------------\n",
      "loss: 0.006156  [   64/60000]\n",
      "loss: 0.005981  [ 6464/60000]\n",
      "loss: 0.006206  [12864/60000]\n",
      "loss: 0.006250  [19264/60000]\n",
      "loss: 0.006087  [25664/60000]\n",
      "loss: 0.006320  [32064/60000]\n",
      "loss: 0.006062  [38464/60000]\n",
      "loss: 0.006097  [44864/60000]\n",
      "loss: 0.006337  [51264/60000]\n",
      "loss: 0.006141  [57664/60000]\n",
      "Test set: Avg loss: 0.006234\n",
      "Epoch 4\n",
      "-------------------------------\n",
      "loss: 0.006157  [   64/60000]\n",
      "loss: 0.006058  [ 6464/60000]\n",
      "loss: 0.006134  [12864/60000]\n",
      "loss: 0.006198  [19264/60000]\n",
      "loss: 0.006113  [25664/60000]\n",
      "loss: 0.006352  [32064/60000]\n",
      "loss: 0.006026  [38464/60000]\n",
      "loss: 0.006053  [44864/60000]\n",
      "loss: 0.006198  [51264/60000]\n",
      "loss: 0.006219  [57664/60000]\n",
      "Test set: Avg loss: 0.006218\n",
      "Epoch 5\n",
      "-------------------------------\n",
      "loss: 0.006107  [   64/60000]\n",
      "loss: 0.005991  [ 6464/60000]\n",
      "loss: 0.006110  [12864/60000]\n",
      "loss: 0.006280  [19264/60000]\n",
      "loss: 0.006046  [25664/60000]\n",
      "loss: 0.006382  [32064/60000]\n",
      "loss: 0.006060  [38464/60000]\n",
      "loss: 0.006054  [44864/60000]\n",
      "loss: 0.006205  [51264/60000]\n",
      "loss: 0.006192  [57664/60000]\n",
      "Test set: Avg loss: 0.006202\n",
      "Done!\n"
     ]
    }
   ],
   "source": [
    "epochs = 5\n",
    "for t in range(epochs):\n",
    "    print(f\"Epoch {t+1}\\n-------------------------------\")\n",
    "    train(train_dataloader, model, optimizer)\n",
    "    test(test_dataloader, model)\n",
    "print(\"Done!\")"
   ]
  },
  {
   "cell_type": "code",
   "execution_count": 9,
   "id": "0bde58a9",
   "metadata": {},
   "outputs": [
    {
     "name": "stdout",
     "output_type": "stream",
     "text": [
      "Saved PyTorch Model State to model.pth\n"
     ]
    }
   ],
   "source": [
    "torch.save(model.state_dict(), \"model.pth\")\n",
    "print(\"Saved PyTorch Model State to model.pth\")"
   ]
  },
  {
   "cell_type": "code",
   "execution_count": 10,
   "id": "6d284457",
   "metadata": {},
   "outputs": [
    {
     "data": {
      "text/plain": [
       "<All keys matched successfully>"
      ]
     },
     "execution_count": 10,
     "metadata": {},
     "output_type": "execute_result"
    }
   ],
   "source": [
    "model = VAE().to(device)\n",
    "model.load_state_dict(torch.load(\"model.pth\"))"
   ]
  },
  {
   "cell_type": "code",
   "execution_count": 11,
   "id": "a52cf038",
   "metadata": {},
   "outputs": [
    {
     "data": {
      "image/png": "[encoded data removed]",
      "text/plain": [
       "<Figure size 800x400 with 2 Axes>"
      ]
     },
     "metadata": {},
     "output_type": "display_data"
    }
   ],
   "source": [
    "import matplotlib.pyplot as plt\n",
    "\n",
    "model.eval()\n",
    "x, y = test_data[0][0], test_data[0][1]  # x is the original image, y is the label (not used for display)\n",
    "with torch.no_grad():\n",
    "    x = x.to(device)\n",
    "    # Add a batch dimension to the input\n",
    "    x = x.unsqueeze(0)\n",
    "    recon_x, _, _ = model(x)\n",
    "    # Reshape the output prediction back to image shape\n",
    "    reconstructed_image = recon_x.view(1, 1, 28, 28)\n",
    "\n",
    "    # Display the original and reconstructed images\n",
    "    fig, axes = plt.subplots(1, 2, figsize=(8, 4))\n",
    "\n",
    "    # Original Image\n",
    "    axes[0].imshow(x.squeeze().cpu().numpy(), cmap='gray')\n",
    "    axes[0].set_title('Original Image')\n",
    "    axes[0].axis('off')\n",
    "\n",
    "    # Reconstructed Image\n",
    "    axes[1].imshow(reconstructed_image.squeeze().cpu().numpy(), cmap='gray')\n",
    "    axes[1].set_title('Reconstructed Image')\n",
    "    axes[1].axis('off')\n",
    "    plt.show()"
   ]
  }
 ],
 "metadata": {
  "kernelspec": {
   "display_name": "Python 3",
   "language": "python",
   "name": "python3"
  },
  "language_info": {
   "codemirror_mode": {
    "name": "ipython",
    "version": 3
   },
   "file_extension": ".py",
   "mimetype": "text/x-python",
   "name": "python",
   "nbconvert_exporter": "python",
   "pygments_lexer": "ipython3",
   "version": "3.13.3"
  }
 },
 "nbformat": 4,
 "nbformat_minor": 5
}
